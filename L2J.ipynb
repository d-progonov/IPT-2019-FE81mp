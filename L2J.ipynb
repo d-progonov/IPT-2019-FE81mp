{
 "cells": [
  {
   "cell_type": "code",
   "execution_count": 21,
   "metadata": {},
   "outputs": [],
   "source": [
    "import csv\n",
    "import os\n",
    "\n",
    "import numpy as np\n",
    "import scipy.stats\n",
    "import sklearn.decomposition\n",
    "from matplotlib import pyplot as plt\n",
    "from PIL import Image"
   ]
  },
  {
   "cell_type": "markdown",
   "metadata": {},
   "source": [
    "![alt text](L2.png \"Title\")"
   ]
  },
  {
   "cell_type": "code",
   "execution_count": 22,
   "metadata": {},
   "outputs": [],
   "source": [
    "RGB = [\"r\", \"g\", \"b\"]\n",
    "fieldnames = [\n",
    "    \"mean_r\", \"mean_g\", \"mean_b\",\n",
    "    \"var_r\", \"var_g\", \"var_b\",\n",
    "    \"skewness_r\", \"skewness_g\", \"skewness_b\",\n",
    "    \"kurtosis_r\", \"kurtosis_g\", \"kurtosis_b\"\n",
    "]\n",
    "DECIMALS = 4\n",
    "COMPONENTS = [10, 50, 100, 150, 250]\n",
    "\n",
    "def metric_mse(C, S):\n",
    "    return round(float(np.power(C - S, 2).sum()) / float((C.shape[0] * C.shape[1])), DECIMALS)\n",
    "\n",
    "def pca_perform(image, components):\n",
    "    pca = sklearn.decomposition.PCA(components, svd_solver=\"full\")\n",
    "    image_pca =pca.fit_transform(image)\n",
    "    pca_image_inverse = pca.inverse_transform(image_pca)\n",
    "    return pca_image_inverse.astype(\"int\")"
   ]
  },
  {
   "cell_type": "code",
   "execution_count": 23,
   "metadata": {},
   "outputs": [],
   "source": [
    "class Img(object):\n",
    "    \n",
    "    def __init__(self, array):\n",
    "        self.img = array\n",
    "    \n",
    "    @property\n",
    "    def im_mean(self):\n",
    "        return [round(np.mean(self.img[:, :, ch]), DECIMALS) for ch in range(self.img.shape[-1])]\n",
    "\n",
    "    @property\n",
    "    def im_var(self):\n",
    "        return [round(np.var(self.img[:, :, ch]), DECIMALS) for ch in range(self.img.shape[-1])]\n",
    "    \n",
    "    @property\n",
    "    def im_skewness(self):\n",
    "        return [round(scipy.stats.skew(self.img[:, :, ch], axis=None), DECIMALS) for ch in range(self.img.shape[-1])]\n",
    "    \n",
    "    @property\n",
    "    def im_kurtosis(self):\n",
    "        return [round(scipy.stats.kurtosis(self.img[:, :, ch], axis=None), DECIMALS) for ch in range(self.img.shape[-1])]\n",
    "        "
   ]
  },
  {
   "cell_type": "code",
   "execution_count": 24,
   "metadata": {},
   "outputs": [
    {
     "data": {
      "text/plain": [
       "(500, 333, 3)"
      ]
     },
     "execution_count": 24,
     "metadata": {},
     "output_type": "execute_result"
    }
   ],
   "source": [
    "image_dir = \"../JImages/\"\n",
    "filename = \"im24820.jpg\"\n",
    "image = np.array(Image.open(f\"{image_dir}{filename}\"))\n",
    "image.shape"
   ]
  },
  {
   "cell_type": "code",
   "execution_count": 25,
   "metadata": {},
   "outputs": [
    {
     "data": {
      "text/plain": [
       "{'kurtosis_r': -1.4703,\n",
       " 'kurtosis_g': -0.4337,\n",
       " 'kurtosis_b': -0.7997,\n",
       " 'mean_r': 114.9447,\n",
       " 'mean_g': 109.9738,\n",
       " 'mean_b': 124.5167,\n",
       " 'skewness_r': 0.4544,\n",
       " 'skewness_g': 0.7866,\n",
       " 'skewness_b': 0.0547,\n",
       " 'var_r': 7815.2901,\n",
       " 'var_g': 4209.9408,\n",
       " 'var_b': 3426.5151}"
      ]
     },
     "execution_count": 25,
     "metadata": {},
     "output_type": "execute_result"
    }
   ],
   "source": [
    "img = Img(image)\n",
    "\n",
    "\n",
    "def get_vectors(img):\n",
    "    result = dict()\n",
    "    for prop in dir(img):\n",
    "        \n",
    "        if prop.startswith(\"im_\"):\n",
    "            r_res, g_res, b_res = getattr(img, prop)\n",
    "            result.update({f\"{prop[3:]}_r\": r_res, f\"{prop[3:]}_g\": g_res, f\"{prop[3:]}_b\": b_res})\n",
    "    return result\n",
    "\n",
    "get_vectors(img)"
   ]
  },
  {
   "cell_type": "markdown",
   "metadata": {},
   "source": [
    "### 3. Form Vectors from Image statistical moments"
   ]
  },
  {
   "cell_type": "code",
   "execution_count": 26,
   "metadata": {},
   "outputs": [
    {
     "name": "stdout",
     "output_type": "stream",
     "text": [
      "[[ 66.6366  92.8637 210.4733 ... 105.4733 123.7653 180.9778]\n",
      " [ 53.3066  87.5544 173.8455 ... 105.4733 130.3493 179.6594]\n",
      " [ 64.5057  84.5643 197.4258 ... 105.4733 130.4133 180.641 ]\n",
      " ...\n",
      " [  1.8721   5.5533   1.2711 ...  -0.4432  -0.6858  -1.0347]\n",
      " [  4.2684   1.4616  -1.4136 ...  -0.4432  -0.5736  -1.0848]\n",
      " [ -0.6338   2.434   -0.5014 ...  -0.4432  -0.903   -1.0433]]\n"
     ]
    }
   ],
   "source": [
    "vectors = [[],[],[],[],[],[],[],[],[],[],[],[]]\n",
    "\n",
    "files = os.listdir(f\"{image_dir}\")\n",
    "for i in range(len(files)):\n",
    "    image = files[i]\n",
    "    result = dict()\n",
    "    img = Img(np.array(Image.open(f\"{image_dir}{image}\")))\n",
    "    properties = get_vectors(img)\n",
    "    \n",
    "    for v in enumerate(fieldnames):\n",
    "        \n",
    "        vectors[v[0]].append(properties[v[1]])\n",
    "\n",
    "ARRAY_4 = np.array(vectors)\n",
    "del vectors\n",
    "    \n",
    "print(ARRAY_4)\n",
    "\n",
    "means = np.round(np.mean(ARRAY_4[0:12], axis=1), 4)"
   ]
  },
  {
   "cell_type": "markdown",
   "metadata": {},
   "source": [
    "### 4. Form Models from Vectors"
   ]
  },
  {
   "cell_type": "code",
   "execution_count": 27,
   "metadata": {},
   "outputs": [
    {
     "name": "stdout",
     "output_type": "stream",
     "text": [
      "Vector 1 mean=(3,) \n",
      "cov=(3, 3) (shape)\n",
      "\n",
      "Vector 2 mean=(6,) \n",
      "cov=(6, 6) (shape)\n",
      "\n",
      "Vector 3 mean=(9,) \n",
      "cov=(9, 9) (shape)\n",
      "\n",
      "Vector 4 mean=[ 119.3066  108.8693   99.3559 4558.6918 4074.3903 3965.6628    0.0939\n",
      "    0.2372    0.4519    0.2847    0.3512    1.2199] \n",
      "cov=[[   1411.7679    1003.191      887.7191   10448.0588   21774.3271\n",
      "    18920.7391     -30.5097     -22.9977     -18.8563      20.8141\n",
      "       12.5593      -7.1094]\n",
      " [   1003.191     1145.7354    1278.6298    4513.7918   22512.8834\n",
      "    34706.2517     -19.2905     -23.3732     -27.55         9.7395\n",
      "       -1.1419     -45.9327]\n",
      " [    887.7191    1278.6298    1961.986    -3025.8933   23326.1939\n",
      "    49024.5365     -14.8347     -24.0282     -41.6017      10.034\n",
      "       -3.1848     -80.8021]\n",
      " [  10448.0588    4513.7918   -3025.8933 5436850.9942 4635915.1306\n",
      "  3455324.0869     -69.3735      48.8271      56.8517   -3933.2016\n",
      "    -3488.6763   -3440.2466]\n",
      " [  21774.3271   22512.8834   23326.1939 4635915.1306 5507455.7934\n",
      "  4707084.6931    -285.8865    -278.3742    -372.3584   -3218.3517\n",
      "    -3647.5728   -4448.5518]\n",
      " [  18920.7391   34706.2517   49024.5365 3455324.0869 4707084.6931\n",
      "  6115563.0531    -243.3274    -490.5529    -887.2932   -2939.7752\n",
      "    -3404.4179   -5912.5727]\n",
      " [    -30.5097     -19.2905     -14.8347     -69.3735    -285.8865\n",
      "     -243.3274       0.9731       0.5817       0.2728      -1.3367\n",
      "       -1.1438      -1.2056]\n",
      " [    -22.9977     -23.3732     -24.0282      48.8271    -278.3742\n",
      "     -490.5529       0.5817       0.7212       0.6932      -0.5806\n",
      "       -0.1444       1.1576]\n",
      " [    -18.8563     -27.55       -41.6017      56.8517    -372.3584\n",
      "     -887.2932       0.2728       0.6932       1.37         0.2736\n",
      "        0.7244       4.7251]\n",
      " [     20.8141       9.7395      10.034    -3933.2016   -3218.3517\n",
      "    -2939.7752      -1.3367      -0.5806       0.2736      12.2264\n",
      "       10.0005      12.6209]\n",
      " [     12.5593      -1.1419      -3.1848   -3488.6763   -3647.5728\n",
      "    -3404.4179      -1.1438      -0.1444       0.7244      10.0005\n",
      "       10.3489      14.2507]\n",
      " [     -7.1094     -45.9327     -80.8021   -3440.2466   -4448.5518\n",
      "    -5912.5727      -1.2056       1.1576       4.7251      12.6209\n",
      "       14.2507      38.2254]]\n"
     ]
    }
   ],
   "source": [
    "np.set_printoptions(suppress=True)\n",
    "\n",
    "print(f\"Vector 1 mean={means[0:3].shape} \\ncov={np.round(np.cov(ARRAY_4[0:3]), 4).shape} (shape)\\n\")\n",
    "\n",
    "print(f\"Vector 2 mean={means[0:6].shape} \\ncov={np.round(np.cov(ARRAY_4[0:6]), 4).shape} (shape)\\n\")\n",
    "\n",
    "print(f\"Vector 3 mean={means[0:9].shape} \\ncov={np.round(np.cov(ARRAY_4[0:9]), 4).shape} (shape)\\n\")\n",
    "\n",
    "print(f\"Vector 4 mean={means[0:12]} \\ncov={np.round(np.cov(ARRAY_4[0:12]), 4)}\")"
   ]
  },
  {
   "cell_type": "markdown",
   "metadata": {},
   "source": [
    "### 5.1 Image color chanels decomposition"
   ]
  },
  {
   "cell_type": "code",
   "execution_count": 28,
   "metadata": {},
   "outputs": [],
   "source": [
    "def pca_decomposition_mes(image):\n",
    "    res = []\n",
    "    max_components = min(image.shape)\n",
    "    for c in COMPONENTS:\n",
    "        image_pca = pca_perform(image, c)\n",
    "        mse = metric_mse(image, image_pca)\n",
    "        res.append(mse)\n",
    "    image_pca = pca_perform(image, max_components)\n",
    "    mse = metric_mse(image, image_pca)\n",
    "    res.append(mse)\n",
    "    return res"
   ]
  },
  {
   "cell_type": "code",
   "execution_count": 29,
   "metadata": {},
   "outputs": [
    {
     "name": "stdout",
     "output_type": "stream",
     "text": [
      "[580.6245, 108.4055, 37.1901, 14.4189, 1.5187, 0.4562]\n"
     ]
    }
   ],
   "source": [
    "image = np.array(Image.open(f\"{image_dir}{filename}\"))\n",
    "res = pca_decomposition_mes(image[:, :, 0])\n",
    "print(res)"
   ]
  },
  {
   "cell_type": "code",
   "execution_count": null,
   "metadata": {},
   "outputs": [],
   "source": [
    "R = [[], [], [], [], [], []]\n",
    "G = [[], [], [], [], [], []]\n",
    "B = [[], [], [], [], [], []]\n",
    "files = os.listdir(f\"{image_dir}\")\n",
    "for i in range(len(files)):\n",
    "    img = files[i]\n",
    "    image = np.array(Image.open(f\"{image_dir}{img}\"))\n",
    "    res = pca_decomposition_mes(image[:, :, 0])\n",
    "    for r in range(len(res)):\n",
    "        R[r].append(res[r])\n",
    "\n",
    "    res = pca_decomposition_mes(image[:, :, 1])\n",
    "    for r in range(len(res)):\n",
    "        G[r].append(res[r])\n",
    "\n",
    "    res = pca_decomposition_mes(image[:, :, 2])\n",
    "    for r in range(len(res)):\n",
    "        B[r].append(res[r])"
   ]
  },
  {
   "cell_type": "markdown",
   "metadata": {},
   "source": [
    "### 5.2 Plot"
   ]
  },
  {
   "cell_type": "code",
   "execution_count": null,
   "metadata": {},
   "outputs": [],
   "source": [
    "plt.figure(figsize=(10,6))\n",
    "figure = plt.subplot()\n",
    "\n",
    "\n",
    "for i in zip([R, G, B], [\"r\", \"g-.\", \"b--\"], [1, 2, 3]):\n",
    "    plt.subplot(f\"13{i[2]}\")\n",
    "    arr = np.array(i[0])\n",
    "    mean_mse = np.round(np.mean(arr, axis=1), DECIMALS)\n",
    "    plt.plot([*COMPONENTS, 300], mean_mse, i[1], lw=3.0)\n",
    "    plt.grid(b=True, which='major', color='k', linestyle='--')\n",
    "    plt.ylim((0, 850))\n",
    "    plt.xlim((0, 320))\n",
    "\n",
    "\n",
    "components = [i for i in zip([*COMPONENTS, 332], mean_mse)]\n",
    "for c in components:\n",
    "    print(f\"Number components: {c[0]}; MSE: {c[1]}\")\n",
    "plt.savefig(\"l2res.png\")\n",
    "plt.show()"
   ]
  },
  {
   "cell_type": "markdown",
   "metadata": {},
   "source": [
    "### 6.1 Make explicit Markov matrix of 1 and 2 order"
   ]
  },
  {
   "cell_type": "code",
   "execution_count": null,
   "metadata": {},
   "outputs": [],
   "source": [
    "image = np.array(Image.open(f\"{image_dir}{filename}\"))\n",
    "image.shape"
   ]
  },
  {
   "cell_type": "code",
   "execution_count": null,
   "metadata": {},
   "outputs": [],
   "source": [
    "np.warnings.filterwarnings('ignore')\n",
    "shape = (256, 256)\n",
    "R = np.zeros(shape)\n",
    "G = np.zeros(shape)\n",
    "B = np.zeros(shape)\n",
    "c = 0\n",
    "for i in image:\n",
    "    previous = i[0]\n",
    "    for j in range(1,len(i)):\n",
    "        R[previous[0]][i[j][0]] += 1\n",
    "        G[previous[1]][i[j][1]] += 1\n",
    "        B[previous[2]][i[j][2]] += 1\n",
    "\n",
    "for vi in enumerate((R, G, B)):\n",
    "    i = vi[0]\n",
    "    v = vi[1]\n",
    "    row_sums = v.sum(axis=1)\n",
    "    assert int(np.sum(row_sums)) == image.shape[0] * (image.shape[1] - 1)\n",
    "    matrix_normalized = v / row_sums[:, np.newaxis]\n",
    "    np.nan_to_num(matrix_normalized, False)\n",
    "    np.savetxt(f\"markov_{('R', 'G', 'B')[i]}_1.txt\", matrix_normalized, fmt=\"%.5f\", delimiter=\"\\t\")\n",
    "    matrix_norm_2 = np.dot(matrix_normalized, matrix_normalized)\n",
    "    np.savetxt(f\"markov_{('R', 'G', 'B')[i]}_2.txt\", matrix_norm_2, fmt=\"%.5f\", delimiter=\"\\t\")"
   ]
  },
  {
   "cell_type": "code",
   "execution_count": null,
   "metadata": {},
   "outputs": [],
   "source": [
    "a = 0\n",
    "for i in range(len(matrix_normalized)):\n",
    "    for j in range(len(matrix_normalized[i])):\n",
    "        if i == j:\n",
    "            a += 1"
   ]
  },
  {
   "cell_type": "code",
   "execution_count": null,
   "metadata": {},
   "outputs": [],
   "source": [
    "matrix_norm_5 = np.dot(np.dot(np.dot(np.dot(matrix_normalized, matrix_normalized), matrix_normalized), matrix_normalized), matrix_normalized)"
   ]
  },
  {
   "cell_type": "code",
   "execution_count": null,
   "metadata": {},
   "outputs": [],
   "source": [
    "a = 0\n",
    "mn = np.zeros((1, 256))\n",
    "print(matrix_norm_5)\n",
    "for i in range(len(matrix_norm_5)):\n",
    "    for j in range(len(matrix_norm_5[i])):\n",
    "        if i == j:\n",
    "            print(f\"{np.round(matrix_norm_5[i][j], 6)}\")\n",
    "            a += 1\n",
    "\n",
    "np.savetxt(\"diag5.txt\", matrix_norm_5,   fmt=\"%.6f\", delimiter=\"\\t\")            \n",
    "np.savetxt(\"matrix5.txt\", matrix_norm_5,   fmt=\"%.6f\", delimiter=\"\\t\")"
   ]
  },
  {
   "cell_type": "code",
   "execution_count": null,
   "metadata": {},
   "outputs": [],
   "source": []
  },
  {
   "cell_type": "code",
   "execution_count": null,
   "metadata": {},
   "outputs": [],
   "source": []
  }
 ],
 "metadata": {
  "kernelspec": {
   "display_name": "Python 3",
   "language": "python",
   "name": "python3"
  },
  "language_info": {
   "codemirror_mode": {
    "name": "ipython",
    "version": 3
   },
   "file_extension": ".py",
   "mimetype": "text/x-python",
   "name": "python",
   "nbconvert_exporter": "python",
   "pygments_lexer": "ipython3",
   "version": "3.6.7"
  }
 },
 "nbformat": 4,
 "nbformat_minor": 2
}
